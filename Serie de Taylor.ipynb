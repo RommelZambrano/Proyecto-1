{
 "cells": [
  {
   "cell_type": "code",
   "execution_count": null,
   "id": "6e608752-7446-4c75-bb49-a478e88df871",
   "metadata": {},
   "outputs": [],
   "source": [
    "#importar la libreria numpy y math, que es la que vamos a utilizar para operar con las operaciones matematicas\n",
    "import numpy as np\n",
    "import math"
   ]
  },
  {
   "cell_type": "code",
   "execution_count": 40,
   "id": "bfee7ef5-c282-45c3-a94c-2f7e635445e6",
   "metadata": {},
   "outputs": [
    {
     "name": "stdout",
     "output_type": "stream",
     "text": [
      "valor de argumentos: 60\n",
      "Numero de terminos a sumar: 50\n",
      "0 0.8660254037844386\n",
      "1 0.8660254037844386\n",
      "2 0.8660254037844386\n",
      "3 0.8660254037844386\n",
      "4 0.8660254037844386\n",
      "5 0.8660254037844386\n",
      "6 0.8660254037844386\n",
      "7 0.8660254037844386\n",
      "8 0.8660254037844386\n",
      "9 0.8660254037844386\n",
      "10 0.8660254037844386\n",
      "11 0.8660254037844386\n",
      "12 0.8660254037844386\n",
      "13 0.8660254037844386\n",
      "14 0.8660254037844386\n",
      "15 0.8660254037844386\n",
      "16 0.8660254037844386\n",
      "17 0.8660254037844386\n",
      "18 0.8660254037844386\n",
      "19 0.8660254037844386\n",
      "20 0.8660254037844386\n",
      "21 0.8660254037844386\n",
      "22 0.8660254037844386\n",
      "23 0.8660254037844386\n",
      "24 0.8660254037844386\n",
      "25 0.8660254037844386\n",
      "26 0.8660254037844386\n",
      "27 0.8660254037844386\n",
      "28 0.8660254037844386\n",
      "29 0.8660254037844386\n",
      "30 0.8660254037844386\n",
      "31 0.8660254037844386\n",
      "32 0.8660254037844386\n",
      "33 0.8660254037844386\n",
      "34 0.8660254037844386\n",
      "35 0.8660254037844386\n",
      "36 0.8660254037844386\n",
      "37 0.8660254037844386\n",
      "38 0.8660254037844386\n",
      "39 0.8660254037844386\n",
      "40 0.8660254037844386\n",
      "41 0.8660254037844386\n",
      "42 0.8660254037844386\n",
      "43 0.8660254037844386\n",
      "44 0.8660254037844386\n",
      "45 0.8660254037844386\n",
      "46 0.8660254037844386\n",
      "47 0.8660254037844386\n",
      "48 0.8660254037844386\n",
      "49 0.8660254037844386\n"
     ]
    }
   ],
   "source": [
    "#definimos la serie de Taylor\n",
    "x_deg = float (input( \"valor de argumentos: \"))\n",
    "x = math.radians(x_deg)#radianes\n",
    "n = int (input(\"Numero de terminos a sumar: \"))\n",
    "sen_x = math.sin(math.pi/3)#desarrolo de Taylor \n",
    "for x in range (n):\n",
    "    sen_x = sen_x \n",
    "    print (x, sen_x)\n",
    "    \n"
   ]
  },
  {
   "cell_type": "code",
   "execution_count": null,
   "id": "ecbb087c",
   "metadata": {},
   "outputs": [],
   "source": []
  },
  {
   "cell_type": "code",
   "execution_count": null,
   "id": "38e6152e",
   "metadata": {},
   "outputs": [],
   "source": []
  },
  {
   "cell_type": "code",
   "execution_count": null,
   "id": "6b051e8b",
   "metadata": {},
   "outputs": [],
   "source": []
  },
  {
   "cell_type": "code",
   "execution_count": null,
   "id": "5323a278",
   "metadata": {},
   "outputs": [],
   "source": []
  }
 ],
 "metadata": {
  "kernelspec": {
   "display_name": "Python 3",
   "language": "python",
   "name": "python3"
  },
  "language_info": {
   "codemirror_mode": {
    "name": "ipython",
    "version": 3
   },
   "file_extension": ".py",
   "mimetype": "text/x-python",
   "name": "python",
   "nbconvert_exporter": "python",
   "pygments_lexer": "ipython3",
   "version": "3.8.8"
  }
 },
 "nbformat": 4,
 "nbformat_minor": 5
}
