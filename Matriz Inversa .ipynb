{
 "cells": [
  {
   "cell_type": "code",
   "execution_count": 1,
   "id": "6f463f88",
   "metadata": {},
   "outputs": [],
   "source": [
    "#Lo primero es importar la libreria numpy, que es la que vamos a utilizar para operar con matrices y las operaciones matematicas\n",
    "import numpy as np\n",
    "from scipy import linalg"
   ]
  },
  {
   "cell_type": "code",
   "execution_count": 68,
   "id": "894e2211",
   "metadata": {},
   "outputs": [
    {
     "name": "stdout",
     "output_type": "stream",
     "text": [
      "Ingrese el Numero de filas: 2\n",
      "Inghrese el Numero de columnas: 2\n",
      "Fila 1, Columna 1 3\n",
      "Fila 1, Columna 2 5\n",
      "Fila 2, Columna 1 6\n",
      "Fila 2, Columna 2 7\n",
      "\n"
     ]
    }
   ],
   "source": [
    "#declaramos la matriz 2x2 (su dimencion)\n",
    "filas = int (input(\"Ingrese el Numero de filas: \"))\n",
    "columnas = int(input(\"Inghrese el Numero de columnas: \"))\n",
    "matriz = []\n",
    "#aqui es donde digitaremos los valores en pantalla a imprimir.\n",
    "for i in range (filas): #numero de filas.\n",
    "    matriz.append([])\n",
    "    for j in range (columnas): #nuemro de columnas.\n",
    "        valor = float (input(\"Fila {:}, Columna {:} \". format (i+1, j+1)))\n",
    "        matriz [i] .append(valor) #ingreso de valores a las columnas y filas con al dimencion antes dada.\n",
    "print ()"
   ]
  },
  {
   "cell_type": "code",
   "execution_count": 69,
   "id": "ff3032f2",
   "metadata": {},
   "outputs": [
    {
     "name": "stdout",
     "output_type": "stream",
     "text": [
      "Matriz Construida:\n",
      "[     3.00     5.00 ]\n",
      "[     6.00     7.00 ]\n",
      "\n"
     ]
    }
   ],
   "source": [
    "#Ahora imprimimos la matriz, con los valores antes ingresados\n",
    "print (\"Matriz Construida:\") \n",
    "for fila in matriz:\n",
    "\n",
    "    print (\"[\", end=\" \")\n",
    "    for elemento in fila:\n",
    "        print (\"{:8.2f}\".format(elemento), end=\" \") #aqui es donde dara forma a la matriz \n",
    "    print (\"]\")\n",
    "print () \n"
   ]
  },
  {
   "cell_type": "code",
   "execution_count": 70,
   "id": "0f0b402a",
   "metadata": {},
   "outputs": [
    {
     "name": "stdout",
     "output_type": "stream",
     "text": [
      "Su matriz inversa es: \n"
     ]
    },
    {
     "data": {
      "text/plain": [
       "array([[-0.77777778,  0.55555556],\n",
       "       [ 0.66666667, -0.33333333]])"
      ]
     },
     "execution_count": 70,
     "metadata": {},
     "output_type": "execute_result"
    }
   ],
   "source": [
    "#Finalmente, Calcularemos la inversa de la matriz\n",
    "B = linalg.inv(matriz)\n",
    "print (\"Su matriz inversa es: \")#para calcular la inversa de una matriz digitamos \"linalg\" y el comando \"inv\" qeu hace desarrollo inversa.\n",
    "B"
   ]
  },
  {
   "cell_type": "code",
   "execution_count": null,
   "id": "5692e2e2",
   "metadata": {},
   "outputs": [],
   "source": []
  },
  {
   "cell_type": "code",
   "execution_count": null,
   "id": "6974bf14",
   "metadata": {},
   "outputs": [],
   "source": []
  },
  {
   "cell_type": "code",
   "execution_count": null,
   "id": "96890133",
   "metadata": {},
   "outputs": [],
   "source": []
  },
  {
   "cell_type": "code",
   "execution_count": null,
   "id": "0afd266b",
   "metadata": {},
   "outputs": [],
   "source": []
  },
  {
   "cell_type": "code",
   "execution_count": null,
   "id": "a5369da6",
   "metadata": {},
   "outputs": [],
   "source": []
  },
  {
   "cell_type": "code",
   "execution_count": null,
   "id": "659edc18",
   "metadata": {},
   "outputs": [],
   "source": []
  }
 ],
 "metadata": {
  "kernelspec": {
   "display_name": "Python 3",
   "language": "python",
   "name": "python3"
  },
  "language_info": {
   "codemirror_mode": {
    "name": "ipython",
    "version": 3
   },
   "file_extension": ".py",
   "mimetype": "text/x-python",
   "name": "python",
   "nbconvert_exporter": "python",
   "pygments_lexer": "ipython3",
   "version": "3.8.8"
  }
 },
 "nbformat": 4,
 "nbformat_minor": 5
}
